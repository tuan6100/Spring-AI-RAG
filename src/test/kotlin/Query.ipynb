{
 "cells": [
  {
   "cell_type": "code",
   "metadata": {
    "collapsed": true,
    "ExecuteTime": {
     "end_time": "2025-08-28T15:10:31.827331Z",
     "start_time": "2025-08-28T15:10:31.733280600Z"
    }
   },
   "source": [
    "\n",
    "import io.qdrant.client.ConditionFactory\n",
    "import io.qdrant.client.ConditionFactory.range\n",
    "import io.qdrant.client.QdrantClient\n",
    "import io.qdrant.client.grpc.Points\n",
    "import org.springframework.beans.factory.annotation.Autowired\n",
    "import org.springframework.stereotype.Component\n",
    "import io.qdrant.client.QdrantGrpcClient\n",
    "import io.qdrant.client.grpc.Points.Condition\n",
    "import io.qdrant.client.grpc.Points.Filter\n",
    "import org.springframework.ai.embedding.EmbeddingModel\n",
    "import org.springframework.ai.transformers.TransformersEmbeddingModel\n",
    "import org.springframework.ai.chat.model.ChatModel\n",
    "import org.springframework.core.io.DefaultResourceLoader\n",
    "import java.io.File\n",
    "\n",
    "\n",
    "\n"
   ],
   "outputs": [],
   "execution_count": 14
  },
  {
   "metadata": {
    "ExecuteTime": {
     "end_time": "2025-08-28T14:56:04.734775Z",
     "start_time": "2025-08-28T14:56:00.963656100Z"
    }
   },
   "cell_type": "code",
   "source": [
    "fun embeddingModel(): EmbeddingModel {\n",
    "    val dataFile = File(\"./model.onnx_data\")\n",
    "    if (!dataFile.exists()) {\n",
    "        val resource = DefaultResourceLoader().getResource(\"classpath:transformer/model.onnx_data\")\n",
    "        if (resource.exists()) {\n",
    "            resource.inputStream.use { input ->\n",
    "                dataFile.outputStream().use { output ->\n",
    "                    input.copyTo(output)\n",
    "                }\n",
    "            }\n",
    "        }\n",
    "    }\n",
    "    val embeddingModel = TransformersEmbeddingModel()\n",
    "    embeddingModel.setModelResource(\"classpath:transformer/model.onnx\")\n",
    "    embeddingModel.setTokenizerResource(\"classpath:transformer/tokenizer.json\")\n",
    "    embeddingModel.setTokenizerOptions(mapOf(\n",
    "        \"addSpecialTokens\" to \"true\",\n",
    "        \"truncation\" to \"true\",\n",
    "        \"padding\" to \"true\",\n",
    "        \"stride\" to \"0\"\n",
    "    ))\n",
    "    embeddingModel.setModelOutputName(\"token_embeddings\")\n",
    "    embeddingModel.setDisableCaching(true)\n",
    "    embeddingModel.afterPropertiesSet()\n",
    "    return embeddingModel\n",
    "}\n",
    "embeddingModel().dimensions()"
   ],
   "outputs": [
    {
     "data": {
      "text/plain": [
       "1024"
      ]
     },
     "execution_count": 12,
     "metadata": {},
     "output_type": "execute_result"
    }
   ],
   "execution_count": 12
  },
  {
   "metadata": {
    "ExecuteTime": {
     "end_time": "2025-08-28T15:10:09.133174300Z",
     "start_time": "2025-08-28T15:10:04.561675400Z"
    }
   },
   "cell_type": "code",
   "source": [
    "val collectionName = \"\"\n",
    "val vectorname = \"\"\n",
    "val sentence = \"\"\n",
    "\n",
    "fun query(qdrantClient: QdrantClient): List<Points.ScoredPoint> {\n",
    "    return qdrantClient.searchAsync(\n",
    "        Points.SearchPoints.newBuilder()\n",
    "            .setCollectionName(collectionName)\n",
    "            .setVectorName(vectorname)\n",
    "            .addAllVector(embeddingModel().embed(sentences).toList())\n",
    "            .setFilter(\n",
    "                Points.Filter.newBuilder()\n",
    "                    .addShould(\n",
    "                        Points.Condition.newBuilder()\n",
    "                            .setField(Points.FieldCondition.newBuilder()\n",
    "                                .setKey(\"\")\n",
    "                                .setMatch(\n",
    "                                    Points.Match.newBuilder()\n",
    "                                        .setText(\"\")\n",
    "                                )\n",
    "                            )\n",
    "                            .setField(Points.FieldCondition.newBuilder()\n",
    "                                .setKey(\"\")\n",
    "                                .setMatch(\n",
    "                                    Points.Match.newBuilder()\n",
    "                                        .setText(\"\")\n",
    "                                )\n",
    "                            )\n",
    "                    ).build()\n",
    "            )\n",
    "            .setWithVectors(Points.WithVectorsSelector.newBuilder().setEnable(true))\n",
    "            .setWithPayload(Points.WithPayloadSelector.newBuilder().setEnable(true))\n",
    "            .setLimit(9)\n",
    "            .setScoreThreshold(0.3f)\n",
    "            .build()\n",
    "    ).get()\n",
    "}\n",
    "\n",
    "var client: QdrantClient = QdrantClient(\n",
    "    QdrantGrpcClient.newBuilder(\"localhost\", 6334, false).build()\n",
    ")\n",
    "query(client).joinToString(\"\\n\\n\") { \"id: ${it.id}, content: ${it.payloadMap.toString()}, score: ${it.score}\" }"
   ],
   "outputs": [
    {
     "ename": "org.jetbrains.kotlinx.jupyter.exceptions.ReplInterruptedException",
     "evalue": "The execution was interrupted",
     "output_type": "error",
     "traceback": [
      "The execution was interrupted"
     ]
    }
   ],
   "execution_count": 13
  },
  {
   "metadata": {
    "ExecuteTime": {
     "end_time": "2025-08-28T15:26:43.877180300Z",
     "start_time": "2025-08-28T15:26:43.816809700Z"
    }
   },
   "cell_type": "code",
   "source": "File(\"./model.onnx_data\").delete()",
   "outputs": [
    {
     "data": {
      "text/plain": [
       "true"
      ]
     },
     "execution_count": 15,
     "metadata": {},
     "output_type": "execute_result"
    }
   ],
   "execution_count": 15
  }
 ],
 "metadata": {
  "kernelspec": {
   "display_name": "Kotlin",
   "language": "kotlin",
   "name": "kotlin"
  },
  "language_info": {
   "name": "kotlin",
   "version": "2.2.20-dev-4982",
   "mimetype": "text/x-kotlin",
   "file_extension": ".kt",
   "pygments_lexer": "kotlin",
   "codemirror_mode": "text/x-kotlin",
   "nbconvert_exporter": ""
  },
  "ktnbPluginMetadata": {
   "projectLibraries": false,
   "projectDependencies": [
    "Chat-Agent.main"
   ]
  }
 },
 "nbformat": 4,
 "nbformat_minor": 0
}
